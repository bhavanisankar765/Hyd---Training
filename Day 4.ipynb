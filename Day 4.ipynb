{
 "cells": [
  {
   "cell_type": "code",
   "execution_count": null,
   "metadata": {},
   "outputs": [],
   "source": [
    "1. Read two limits as input() and print output as \" count of even polindrome\"\n",
    "    Test cases:\n",
    "         1 100 -- 8"
   ]
  },
  {
   "cell_type": "code",
   "execution_count": null,
   "metadata": {},
   "outputs": [],
   "source": [
    "#include<stdio.h>\n",
    "int ispalindrome(int n)\n",
    "{\n",
    "\tint rev=0,buffer=n;\n",
    "\twhile(n!=0)\n",
    "\t{\n",
    "\t\trev * 10 + (n%10);\n",
    "\t\tn /= 10;\n",
    "\t}\n",
    "\tif (buffer==rev){\n",
    "\t\treturn 1;\n",
    "\t}\n",
    "\telse{\n",
    "\t\treturn 0;\n",
    "\t}\n",
    " } \n",
    " \n",
    " int main()\n",
    " {\n",
    " \tint i,a1,a2,res,pcnt=0;\n",
    " \tscanf(\"%d%d\",&a1,&a2);\n",
    " \tfor (i=a1;i<=a2;i++)\n",
    " \t{\n",
    " \t\tif(i%2==0)\n",
    " \t\t{\n",
    " \t\t\tres = ispalindrome(i);\n",
    " \t\t\tif(res==1){\n",
    " \t\t\t\tpcnt++;\n",
    "\t\t\t }\n",
    "\t\t }\n",
    "\t }\n",
    "\t printf(\"%d\",pcnt);\n",
    "\t return 0;\n",
    " }"
   ]
  },
  {
   "cell_type": "code",
   "execution_count": null,
   "metadata": {},
   "outputs": [],
   "source": [
    "2. Read the input as Number and print the output as Yes or No \n",
    " Test cases:\n",
    "        145 -- Yes\n",
    "        123 -- No\n",
    "    \n",
    "    Reason for the output is individual digit factor sum is same as original number so print \"yes\" otherwise \"No\"\n",
    "    145 -- 5 4 1\n",
    "    5! -- 120 4! -- 24 1! --1\n",
    "    120+24+1 -- 145\n",
    "    \n",
    "    123 ---3 2 1\n",
    "    3! -- 6 2! --2 1!-- 1\n",
    "    6+2+1 ---9"
   ]
  },
  {
   "cell_type": "code",
   "execution_count": null,
   "metadata": {},
   "outputs": [],
   "source": [
    "#include<stdio.h>\n",
    "int factorial (int x)\n",
    "{\n",
    "\tint i,fact = 1;\n",
    "\tfor (i=x;i>0;i--)\n",
    "\t{\n",
    "\t\tfact * =i;\n",
    "\t}\n",
    "\treturn 0;\n",
    "\t}\n",
    "\t\n",
    "\t\n",
    "int main()\n",
    "int i,n,r,s,buffer;\n",
    "scanf(\"%d\",&n)\n",
    "buffer = n;\n",
    "while(n!=0)\n",
    "{\n",
    "\tr = n%10;\n",
    "\ts= s +factorial(r);\n",
    "\tn /=10;\n",
    "}\t\n",
    "\tif (s== buffer)\n",
    "\t{\n",
    "\t\tprintf(\"Yes\");\n",
    "\t}\n",
    "\telse{\n",
    "\t\tprintf(\"No\");\n",
    "\t}\n",
    "\treturn0;\n",
    "\t\n",
    "}\n"
   ]
  },
  {
   "cell_type": "code",
   "execution_count": null,
   "metadata": {},
   "outputs": [],
   "source": [
    "3. Read the two limits as input and print the count of perfect number in the given limit.\n",
    "Test cases:\n",
    "    1 10 -- 1(6 -- 1 + 2 + 3)"
   ]
  },
  {
   "cell_type": "code",
   "execution_count": null,
   "metadata": {},
   "outputs": [],
   "source": [
    "#include<stdio.h>\n",
    "int isperfect(int n)\n",
    "{\n",
    "\tint i,sum=0;\n",
    "\tfor(i=1;i<=(n/2);i++)\n",
    "\t{\n",
    "\t\tif(n%i==0)\n",
    "\t\t{\n",
    "\t\t\tsum=sum+i;\n",
    "\t\t}\n",
    "\t}\n",
    "\tif(sum==n)\n",
    "\t{\n",
    "\t\t// printf(\"%d\",sum)\n",
    "\t\treturn 1;\n",
    "\t}\n",
    "\telse\n",
    "\t{\n",
    "\t\treturn 0;\n",
    "\t}\n",
    "}\n",
    "int main()\n",
    "{\n",
    "\tint a1,a2,i,res,perfectcnt=0;\n",
    "\tscanf(\"%d%d\",&a1,&a2);\n",
    "\tfor(i=a1;i<=a2;i++)\n",
    "\t{\n",
    "    \tres = isperfect(i);\t\n",
    "    \tif(res==1){\n",
    "\t\t   perfectcnt++;\n",
    "     \t}\n",
    "\t\n",
    "\t}\n",
    "\tprintf(\"%d\",perfectcnt);\n",
    "\treturn 0;\n",
    "}"
   ]
  },
  {
   "cell_type": "code",
   "execution_count": null,
   "metadata": {},
   "outputs": [],
   "source": [
    "4. Readthe input and print the output as sum of digits to power of digit count\n",
    "Test cases:\n",
    "    121 -- 10(1^3+2^3+1^31)\n",
    "    1223 -- 114(1^4+2^4+2^4+3^4)"
   ]
  },
  {
   "cell_type": "code",
   "execution_count": null,
   "metadata": {},
   "outputs": [],
   "source": [
    "#include<stdio.h>\n",
    "#include<math.h>\n",
    "int digitcount(int n)\n",
    "{\n",
    "\tint cnt=0;\n",
    "\twhile(n!=0)\n",
    "\t{\n",
    "\t\tcnt++;\n",
    "\t\tn/=10;\n",
    "\t}\n",
    "\treturn cnt;\n",
    "}\n",
    "int main()\n",
    "{\n",
    "\tint x,dgtcnt,r,sum=0;\n",
    "\tscanf(\"%d\",&x);\n",
    "\tdgtcnt= digitcount(x);\n",
    "\twhile(x!=0)\n",
    "\t{\n",
    "\t   r= x%10;\n",
    "\t   sum=sum+pow(r,dgtcnt);\n",
    "\t   x /=10;\t\n",
    "\t}\n",
    "\tprintf(\"%d\",sum);\n",
    "\treturn 0;\n",
    "\t\n",
    "}"
   ]
  },
  {
   "cell_type": "code",
   "execution_count": null,
   "metadata": {},
   "outputs": [],
   "source": [
    "5. Read the input as two numbers and print the series of prime number between the two limits.\n",
    " 1 10 -- 1 2 3 5 7"
   ]
  },
  {
   "cell_type": "code",
   "execution_count": null,
   "metadata": {},
   "outputs": [],
   "source": [
    "#include<stdio.h>\n",
    "int isprime(int n)\n",
    "{\n",
    "\tint i,flag=0;\n",
    "\tfor(i<2;i<=(n/2);i++)\n",
    "\t{\n",
    "\t\tif(n%i==0)\n",
    "\t\tflag=0;\n",
    "\t\tbreak;\t\n",
    "\t\treturn 1;\n",
    "\t\t{\n",
    "\t\t\telse\n",
    "\t\t\t{\n",
    "\t\t\t\treturn 0;\n",
    "\t\t\t}\n",
    "\t\t}\n",
    "\t}\n",
    "}\n",
    "int main()\n",
    "{\n",
    "\tint a,b;\n",
    "\tscanf(\"%d%d\",&a,&b);\n",
    "    for (i=a;i<=b;i++) \n",
    "\t{\n",
    "\t\tres= isprime(i);\n",
    "\t\tif(res==1)\n",
    "\t\t{\n",
    "\t\t\tprintf(\"%d\",i)\n",
    "\t\t}\n",
    "\t\t\n",
    "    }   \n",
    "\treturn 0;   \n",
    "}"
   ]
  },
  {
   "cell_type": "code",
   "execution_count": null,
   "metadata": {},
   "outputs": [],
   "source": []
  },
  {
   "cell_type": "markdown",
   "metadata": {},
   "source": [
    "http:// www.github.com/\n",
    "\n",
    "[Github][http://www.github.com/]"
   ]
  },
  {
   "cell_type": "markdown",
   "metadata": {},
   "source": [
    "|Tables  |Name|Age|\n",
    "|------- |----|---|\n",
    "|123     |Sank|12 |\n",
    "|322     |eswm|12 |"
   ]
  },
  {
   "cell_type": "code",
   "execution_count": null,
   "metadata": {},
   "outputs": [],
   "source": []
  }
 ],
 "metadata": {
  "kernelspec": {
   "display_name": "Python 3",
   "language": "python",
   "name": "python3"
  },
  "language_info": {
   "codemirror_mode": {
    "name": "ipython",
    "version": 3
   },
   "file_extension": ".py",
   "mimetype": "text/x-python",
   "name": "python",
   "nbconvert_exporter": "python",
   "pygments_lexer": "ipython3",
   "version": "3.7.4"
  }
 },
 "nbformat": 4,
 "nbformat_minor": 2
}
