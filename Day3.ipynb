{
 "cells": [
  {
   "cell_type": "code",
   "execution_count": null,
   "metadata": {},
   "outputs": [],
   "source": [
    "1. Read two numbers as input and print the output as square of second number if first number is greater and vice-versa.\n",
    "Testcases:\n",
    "    5 10 --25\n",
    "    4 2  --4"
   ]
  },
  {
   "cell_type": "code",
   "execution_count": null,
   "metadata": {},
   "outputs": [],
   "source": [
    "#include<stdio.h>\n",
    "int main()\n",
    "{\n",
    "\tint x1,x2;\n",
    "\tscanf(\"%d%d\",&x1,&x2);\n",
    "\tif(x1>x2){\n",
    "\t\tprintf(\"%d\",x2*x2);\n",
    "\t\t}\n",
    "\telse{\n",
    "\t\tprintf(\"%d\",x1*x1);\n",
    "\t}\n",
    "\treturn 0;\n",
    "}    \n",
    "\n"
   ]
  },
  {
   "cell_type": "code",
   "execution_count": null,
   "metadata": {},
   "outputs": [],
   "source": [
    "2.Read the age of the person as input and print the output as eligible for voting or not The age is between 18 and 85 is Eligible .\n",
    " Test cases:\n",
    "        25 - Eligible for voting\n",
    "        16 - Not Eligible"
   ]
  },
  {
   "cell_type": "code",
   "execution_count": null,
   "metadata": {},
   "outputs": [],
   "source": [
    "#include<stdio.h>\n",
    "int main()\n",
    "{\n",
    "\tint age;\n",
    "scanf(\"%d\",&age);\n",
    "if(age>18){\n",
    "\tprintf(\"%d\",eligible);\n",
    "}\n",
    "else{\n",
    "\tprintf(\"%d\",not eligible);\n",
    "}\n",
    "return 0;\n",
    "}"
   ]
  },
  {
   "cell_type": "code",
   "execution_count": null,
   "metadata": {},
   "outputs": [],
   "source": [
    "3. Read the character as input and check wheather it is upper case,lower case or digit.\n",
    "  Test cases:\n",
    "        a - Lower case character\n",
    "        A - Upper case character\n",
    "        1 - Digit character"
   ]
  },
  {
   "cell_type": "code",
   "execution_count": null,
   "metadata": {},
   "outputs": [],
   "source": [
    "#include<stdio.h>\n",
    "// A-Z --65-90\n",
    "// a-z -- 97-122\n",
    "int main()\n",
    "{\n",
    "\tchar a;\n",
    "\tscanf(\"%c\",&a);\n",
    "\tif(a>=65 && a<=90)\n",
    "\t{\n",
    "\t\tprintf(\"The upper case character\");\n",
    "    }\n",
    "    elseif(a>97 && a<=122)\n",
    "    {\n",
    "  \tprintf(\"Lower case character\");\n",
    "    }\n",
    " else if (a>=48 && a <=57)\n",
    "   {\n",
    " \tprintf(\"Digit character\");\n",
    "   }\t\n",
    "\t return 0;\n",
    "}"
   ]
  },
  {
   "cell_type": "code",
   "execution_count": null,
   "metadata": {},
   "outputs": [],
   "source": [
    "4.Read the input as character and print the output as wheather it is voweel or consonant\n",
    "  Test cases:\n",
    "        a -- Vowel\n",
    "        s -- Consonent"
   ]
  },
  {
   "cell_type": "code",
   "execution_count": null,
   "metadata": {},
   "outputs": [],
   "source": [
    "#include<stdio.h>\n",
    "int main()\n",
    "{\n",
    "\tchar a;\n",
    "\tscanf(\"%c\",&a);\n",
    "\tif (a == 'a'|| a=='e'||a=='i'||a=='o'||a=='u')\n",
    "\t{\n",
    "\t\tprintf(\"vowel\");\n",
    "\t\t}\n",
    "\telse\n",
    "\t{\n",
    "\t\tprintf(\"consonent\");\n",
    "\t}\n",
    "\treturn 0;\n",
    "}"
   ]
  },
  {
   "cell_type": "code",
   "execution_count": null,
   "metadata": {},
   "outputs": [],
   "source": [
    "5. Read the number as input and check wheather it is perfectly divisible by 3 and 5 or not.\n",
    "  Test cases:\n",
    "        15 -- Yes\n",
    "        12 -- No"
   ]
  },
  {
   "cell_type": "code",
   "execution_count": null,
   "metadata": {},
   "outputs": [],
   "source": [
    "#include<stdio.h>\n",
    "int main()\n",
    "{\n",
    "\tint x;\n",
    "\tscanf(\"%d\",&x);\n",
    "\tif (x%3==0 && x%5==0)\n",
    "\t{\n",
    "\t\tprintf(\"Yes\");\n",
    "\t}\n",
    "\telse\n",
    "\t{\n",
    "\t\tprintf(\"no\");\n",
    "\t}\n",
    "\treturn 0;\n",
    "}"
   ]
  },
  {
   "cell_type": "code",
   "execution_count": null,
   "metadata": {},
   "outputs": [],
   "source": [
    "6. Read the number as input (week number) and print the output as week name.\n",
    "  Test cases:\n",
    "        1 -- Sunday\n",
    "        3 -- Tuesday\n",
    "        7 -- Saturday"
   ]
  },
  {
   "cell_type": "code",
   "execution_count": null,
   "metadata": {},
   "outputs": [],
   "source": [
    "#include<stdio.h>\n",
    "int main()\n",
    "{\n",
    "\tint a;\n",
    "\tscanf(\"%d\",&a);\n",
    "\tswitch(a)\n",
    "\t{\n",
    "\t\tcase1:printf(\"sunday\");\n",
    "\t\tbreak;\n",
    "\t\tcas2:printf(\"monday\");\n",
    "\t\tbreak;\n",
    "\t\tcas3:printf(\"Tuesday\");\n",
    "\t\tbreak;\n",
    "\t\tcas4:print(\"Wednesday\");\n",
    "\t\tbreak;\n",
    "\t\tcas5:printf(\"Thrusday\");\n",
    "\t\tbreak;\n",
    "\t\tcas6:printf(\"Friday\");\n",
    "\t\tbreak;\n",
    "\t\tcas7:printf(\"saturday\");\n",
    "\t\tbreak;\n",
    "\t}\n",
    "\treturn 0;\n",
    "}"
   ]
  },
  {
   "cell_type": "code",
   "execution_count": null,
   "metadata": {},
   "outputs": [],
   "source": [
    "7. Read the three angles as input and check with these angles can we able to construct Triangle or not.\n",
    "  Test cases:\n",
    "        90 45 45 --Yes\n",
    "        0 0 180 -- No\n",
    "        60 90 30 -- Yes"
   ]
  },
  {
   "cell_type": "code",
   "execution_count": null,
   "metadata": {},
   "outputs": [],
   "source": [
    "#include<stdio.h>\n",
    "int main()\n",
    "{\n",
    "\tint x,y,z;\n",
    "\tscanf(\"%d%d%d\",&x,&y,&z);\n",
    "\tif(x !=0 && y!=0 && z!=0 &&( x+y+z=180 ))\n",
    "\t{\n",
    "\t\tprintf(\"Construct triangle\")\n",
    "\t}\n",
    "\telse{\n",
    "\t\tprintf(\"Not construct triangle\")\n",
    "\t}\n",
    "\treturn 0;\n",
    "}"
   ]
  },
  {
   "cell_type": "code",
   "execution_count": null,
   "metadata": {},
   "outputs": [],
   "source": [
    "While loop:\n",
    "1. In the while loop first condition will be tested and then after the loop statement will be executed."
   ]
  },
  {
   "cell_type": "code",
   "execution_count": null,
   "metadata": {},
   "outputs": [],
   "source": [
    "8. Read the number ass input and print the natural numbers from 1 to N.\n",
    "   Test cases:\n",
    "        10 -- 1 2 3 4 5 6 7 8 9 10"
   ]
  },
  {
   "cell_type": "code",
   "execution_count": null,
   "metadata": {},
   "outputs": [],
   "source": [
    "#include<stdio.h>\n",
    "int main()\n",
    "{\n",
    "\tint n,i=1;\n",
    "\tscanf(\"%d\",&n);\n",
    "\twhile(i<=n)\n",
    "\t{\n",
    "\t\tprintf(\"%d \",i);\n",
    "\t\ti++;\n",
    "\t}\n",
    "\treturn 0;\n",
    "}"
   ]
  },
  {
   "cell_type": "code",
   "execution_count": null,
   "metadata": {},
   "outputs": [],
   "source": [
    "9. Read the number as input and print the sum of even number between 1 to N.\n",
    "  Test cases:\n",
    "        10 -- 30(2+4+6+8+10)"
   ]
  },
  {
   "cell_type": "code",
   "execution_count": null,
   "metadata": {},
   "outputs": [],
   "source": [
    "#include<stdo.h>\n",
    "int main()\n",
    "{\n",
    "\tint n,i=1,s=0;\n",
    "\tscanf(\"%d\",&n);\n",
    "\twhile(i<=n)\n",
    "\t{\n",
    "\t\tif(i%2 == 0)\n",
    "\t}\n",
    "\ts=s+i;\n",
    "}\n",
    "i++;\n",
    "}printf(\"%d\",s);\n",
    "return 0;\n",
    "}\n"
   ]
  },
  {
   "cell_type": "code",
   "execution_count": null,
   "metadata": {},
   "outputs": [],
   "source": [
    "10. Read the two numbers as input and print the output as the numbers which is perfectly divisible by 3 and 5\n",
    "  Test cases:\n",
    "        1 15 -- 15\n",
    "        15 45 -- 15 30 45"
   ]
  },
  {
   "cell_type": "code",
   "execution_count": null,
   "metadata": {},
   "outputs": [],
   "source": []
  },
  {
   "cell_type": "code",
   "execution_count": null,
   "metadata": {},
   "outputs": [],
   "source": []
  },
  {
   "cell_type": "code",
   "execution_count": null,
   "metadata": {},
   "outputs": [],
   "source": []
  },
  {
   "cell_type": "code",
   "execution_count": null,
   "metadata": {},
   "outputs": [],
   "source": []
  },
  {
   "cell_type": "code",
   "execution_count": null,
   "metadata": {},
   "outputs": [],
   "source": []
  },
  {
   "cell_type": "code",
   "execution_count": null,
   "metadata": {},
   "outputs": [],
   "source": []
  },
  {
   "cell_type": "code",
   "execution_count": null,
   "metadata": {},
   "outputs": [],
   "source": []
  },
  {
   "cell_type": "code",
   "execution_count": null,
   "metadata": {},
   "outputs": [],
   "source": []
  },
  {
   "cell_type": "code",
   "execution_count": null,
   "metadata": {},
   "outputs": [],
   "source": []
  },
  {
   "cell_type": "code",
   "execution_count": null,
   "metadata": {},
   "outputs": [],
   "source": []
  }
 ],
 "metadata": {
  "kernelspec": {
   "display_name": "Python 3",
   "language": "python",
   "name": "python3"
  },
  "language_info": {
   "codemirror_mode": {
    "name": "ipython",
    "version": 3
   },
   "file_extension": ".py",
   "mimetype": "text/x-python",
   "name": "python",
   "nbconvert_exporter": "python",
   "pygments_lexer": "ipython3",
   "version": "3.7.4"
  }
 },
 "nbformat": 4,
 "nbformat_minor": 2
}
